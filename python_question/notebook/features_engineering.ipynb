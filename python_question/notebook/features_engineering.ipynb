{
 "cells": [
  {
   "cell_type": "markdown",
   "id": "7a3fe904",
   "metadata": {},
   "source": [
    "# Features engineering"
   ]
  },
  {
   "cell_type": "markdown",
   "id": "c53e13f0",
   "metadata": {},
   "source": [
    "# Load the data"
   ]
  },
  {
   "cell_type": "code",
   "execution_count": 1,
   "id": "a4da41d1",
   "metadata": {},
   "outputs": [],
   "source": [
    "import sys\n",
    "sys.path.append('/Users/badr/github_projects')"
   ]
  },
  {
   "cell_type": "code",
   "execution_count": 2,
   "id": "72b1a053",
   "metadata": {},
   "outputs": [
    {
     "data": {
      "text/html": [
       "<div>\n",
       "<style scoped>\n",
       "    .dataframe tbody tr th:only-of-type {\n",
       "        vertical-align: middle;\n",
       "    }\n",
       "\n",
       "    .dataframe tbody tr th {\n",
       "        vertical-align: top;\n",
       "    }\n",
       "\n",
       "    .dataframe thead th {\n",
       "        text-align: right;\n",
       "    }\n",
       "</style>\n",
       "<table border=\"1\" class=\"dataframe\">\n",
       "  <thead>\n",
       "    <tr style=\"text-align: right;\">\n",
       "      <th></th>\n",
       "      <th>Loan_ID</th>\n",
       "      <th>Gender</th>\n",
       "      <th>Married</th>\n",
       "      <th>Dependents</th>\n",
       "      <th>Education</th>\n",
       "      <th>Self_Employed</th>\n",
       "      <th>ApplicantIncome</th>\n",
       "      <th>CoapplicantIncome</th>\n",
       "      <th>LoanAmount</th>\n",
       "      <th>Loan_Amount_Term</th>\n",
       "      <th>Credit_History</th>\n",
       "      <th>Property_Area</th>\n",
       "      <th>Loan_Status</th>\n",
       "    </tr>\n",
       "  </thead>\n",
       "  <tbody>\n",
       "    <tr>\n",
       "      <th>0</th>\n",
       "      <td>LP001002</td>\n",
       "      <td>Male</td>\n",
       "      <td>No</td>\n",
       "      <td>0</td>\n",
       "      <td>Graduate</td>\n",
       "      <td>No</td>\n",
       "      <td>5849</td>\n",
       "      <td>0.0</td>\n",
       "      <td>NaN</td>\n",
       "      <td>360.0</td>\n",
       "      <td>1.0</td>\n",
       "      <td>Urban</td>\n",
       "      <td>Y</td>\n",
       "    </tr>\n",
       "    <tr>\n",
       "      <th>1</th>\n",
       "      <td>LP001003</td>\n",
       "      <td>Male</td>\n",
       "      <td>Yes</td>\n",
       "      <td>1</td>\n",
       "      <td>Graduate</td>\n",
       "      <td>No</td>\n",
       "      <td>4583</td>\n",
       "      <td>1508.0</td>\n",
       "      <td>128.0</td>\n",
       "      <td>360.0</td>\n",
       "      <td>1.0</td>\n",
       "      <td>Rural</td>\n",
       "      <td>N</td>\n",
       "    </tr>\n",
       "    <tr>\n",
       "      <th>2</th>\n",
       "      <td>LP001005</td>\n",
       "      <td>Male</td>\n",
       "      <td>Yes</td>\n",
       "      <td>0</td>\n",
       "      <td>Graduate</td>\n",
       "      <td>Yes</td>\n",
       "      <td>3000</td>\n",
       "      <td>0.0</td>\n",
       "      <td>66.0</td>\n",
       "      <td>360.0</td>\n",
       "      <td>1.0</td>\n",
       "      <td>Urban</td>\n",
       "      <td>Y</td>\n",
       "    </tr>\n",
       "    <tr>\n",
       "      <th>3</th>\n",
       "      <td>LP001006</td>\n",
       "      <td>Male</td>\n",
       "      <td>Yes</td>\n",
       "      <td>0</td>\n",
       "      <td>Not Graduate</td>\n",
       "      <td>No</td>\n",
       "      <td>2583</td>\n",
       "      <td>2358.0</td>\n",
       "      <td>120.0</td>\n",
       "      <td>360.0</td>\n",
       "      <td>1.0</td>\n",
       "      <td>Urban</td>\n",
       "      <td>Y</td>\n",
       "    </tr>\n",
       "    <tr>\n",
       "      <th>4</th>\n",
       "      <td>LP001008</td>\n",
       "      <td>Male</td>\n",
       "      <td>No</td>\n",
       "      <td>0</td>\n",
       "      <td>Graduate</td>\n",
       "      <td>No</td>\n",
       "      <td>6000</td>\n",
       "      <td>0.0</td>\n",
       "      <td>141.0</td>\n",
       "      <td>360.0</td>\n",
       "      <td>1.0</td>\n",
       "      <td>Urban</td>\n",
       "      <td>Y</td>\n",
       "    </tr>\n",
       "  </tbody>\n",
       "</table>\n",
       "</div>"
      ],
      "text/plain": [
       "    Loan_ID Gender Married Dependents     Education Self_Employed  \\\n",
       "0  LP001002   Male      No          0      Graduate            No   \n",
       "1  LP001003   Male     Yes          1      Graduate            No   \n",
       "2  LP001005   Male     Yes          0      Graduate           Yes   \n",
       "3  LP001006   Male     Yes          0  Not Graduate            No   \n",
       "4  LP001008   Male      No          0      Graduate            No   \n",
       "\n",
       "   ApplicantIncome  CoapplicantIncome  LoanAmount  Loan_Amount_Term  \\\n",
       "0             5849                0.0         NaN             360.0   \n",
       "1             4583             1508.0       128.0             360.0   \n",
       "2             3000                0.0        66.0             360.0   \n",
       "3             2583             2358.0       120.0             360.0   \n",
       "4             6000                0.0       141.0             360.0   \n",
       "\n",
       "   Credit_History Property_Area Loan_Status  \n",
       "0             1.0         Urban           Y  \n",
       "1             1.0         Rural           N  \n",
       "2             1.0         Urban           Y  \n",
       "3             1.0         Urban           Y  \n",
       "4             1.0         Urban           Y  "
      ]
     },
     "execution_count": 2,
     "metadata": {},
     "output_type": "execute_result"
    }
   ],
   "source": [
    "from fortinet_hacker_rank_interview.python_question.src.loading_data import load_data\n",
    "data = load_data()\n",
    "data.head()"
   ]
  },
  {
   "cell_type": "markdown",
   "id": "9ddae2d8",
   "metadata": {},
   "source": [
    "# Feature Transformation\n"
   ]
  },
  {
   "cell_type": "markdown",
   "id": "9371e178",
   "metadata": {},
   "source": [
    "##  Categorical feature transformation into numerical"
   ]
  },
  {
   "cell_type": "code",
   "execution_count": 3,
   "id": "54511cfe",
   "metadata": {},
   "outputs": [],
   "source": [
    "from fortinet_hacker_rank_interview.python_question.src.util import ordinal_encoding_to_replace_categorical_features, one_hot_encoding_to_replace_categorical_features\n",
    "\n",
    "\n",
    "col_name = 'Education'\n",
    "mapper = {'Graduate': 1, 'Not Graduate': 2}\n",
    "data = ordinal_encoding_to_replace_categorical_features(data, col_name, mapper)\n",
    "# or we can use: data[col_name] = data[col_name].cat.codes\n",
    "\n",
    "col_list = ['Gender', 'Married', 'Property_Area', 'Dependents']\n",
    "data = one_hot_encoding_to_replace_categorical_features(data, col_list)"
   ]
  },
  {
   "cell_type": "markdown",
   "id": "399d8bf7",
   "metadata": {},
   "source": [
    "## Feature distribution\n"
   ]
  },
  {
   "cell_type": "code",
   "execution_count": 5,
   "id": "7c266d85",
   "metadata": {},
   "outputs": [
    {
     "data": {
      "text/plain": [
       "<AxesSubplot:xlabel='LoanAmount', ylabel='Count'>"
      ]
     },
     "execution_count": 5,
     "metadata": {},
     "output_type": "execute_result"
    },
    {
     "data": {
      "image/png": "[encoded data removed]",
      "text/plain": [
       "<Figure size 640x480 with 1 Axes>"
      ]
     },
     "metadata": {},
     "output_type": "display_data"
    }
   ],
   "source": [
    "import seaborn as sns\n",
    "sns.histplot(data[\"LoanAmount\"])"
   ]
  },
  {
   "cell_type": "markdown",
   "id": "18548b26",
   "metadata": {},
   "source": [
    "**Interpretation**\n",
    "\n",
    "As you can see the distribution is skewed to the right. Because of the outliers, we see that the tail is longer (high numbers).\n",
    "It is possible to deal with that particularity with a log transformation on the data. This transformation will not affect the data distribution properties, it will only reduce the large values on the figure."
   ]
  },
  {
   "cell_type": "markdown",
   "id": "792bb30e",
   "metadata": {},
   "source": [
    "## Log transformation "
   ]
  },
  {
   "cell_type": "code",
   "execution_count": 6,
   "id": "9b96e8c1",
   "metadata": {},
   "outputs": [
    {
     "data": {
      "text/plain": [
       "<AxesSubplot:>"
      ]
     },
     "execution_count": 6,
     "metadata": {},
     "output_type": "execute_result"
    },
    {
     "data": {
      "image/png": "[encoded data removed]",
      "text/plain": [
       "<Figure size 640x480 with 1 Axes>"
      ]
     },
     "metadata": {},
     "output_type": "display_data"
    }
   ],
   "source": [
    "from fortinet_hacker_rank_interview.python_question.src.util import feature_log_transformation\n",
    "\n",
    "column_to_log_transform = [\"LoanAmount\"]\n",
    "for column in column_to_log_transform:\n",
    "    data = feature_log_transformation(data, column)\n",
    "    \n",
    "data[column+'_log'].hist(bins=20)"
   ]
  },
  {
   "cell_type": "markdown",
   "id": "41aac71d",
   "metadata": {},
   "source": [
    "## Feature creation\n",
    "\n",
    "It is very helpful to use our knowledge and expertise in the application domaine to derive new features that will help the machine learning model to perform better than using raw features. \n",
    "The set of features that we want to create are the following:\n",
    "\n",
    "1- Total_income = applicant_income + coapplicant_income\n",
    "2- EMI = LoanAmount / Loan_Amount_Term\n",
    "3- Balance_Income = TotalIncome - EMI*1000"
   ]
  },
  {
   "cell_type": "code",
   "execution_count": null,
   "id": "8afc3bf0",
   "metadata": {},
   "outputs": [],
   "source": [
    "# 1- Total_income = applicant_income + coapplicant_income\n",
    "data[\"total_income\"] = data[\"ApplicantIncome\"]+data[\"CoapplicantIncome\"]\n",
    "data = feature_log_transformation(data, \"total_income\")\n",
    "# 2- EMI = LoanAmount / Loan_Amount_Term\n",
    "data[\"EMI\"] = data[\"LoanAmount\"]/data[\"Loan_Amount_Term\"]\n",
    "# 3- Balance_Income = TotalIncome - EMI*1000\n",
    "data[\"Balance_Income\"] = data[\"total_income\"]-data[\"EMI\"]*1000 # To make the units equal we multiply with 1000\n",
    "# delete not useful columns\n",
    "data = data.drop([\"Loan_ID\",\"ApplicantIncome\",\"CoapplicantIncome\",\"LoanAmount\",\"Loan_Amount_Term\"],axis=1)"
   ]
  },
  {
   "cell_type": "code",
   "execution_count": null,
   "id": "c8475c2b",
   "metadata": {},
   "outputs": [],
   "source": []
  },
  {
   "cell_type": "code",
   "execution_count": null,
   "id": "c946af29",
   "metadata": {},
   "outputs": [],
   "source": []
  },
  {
   "cell_type": "code",
   "execution_count": null,
   "id": "203760c1",
   "metadata": {},
   "outputs": [],
   "source": []
  },
  {
   "cell_type": "code",
   "execution_count": null,
   "id": "e74b087d",
   "metadata": {},
   "outputs": [],
   "source": []
  },
  {
   "cell_type": "code",
   "execution_count": null,
   "id": "1a59c1b9",
   "metadata": {},
   "outputs": [],
   "source": []
  },
  {
   "cell_type": "code",
   "execution_count": null,
   "id": "aee26094",
   "metadata": {},
   "outputs": [],
   "source": []
  },
  {
   "cell_type": "code",
   "execution_count": null,
   "id": "f358cfe3",
   "metadata": {},
   "outputs": [],
   "source": []
  },
  {
   "cell_type": "code",
   "execution_count": null,
   "id": "e7df4ff7",
   "metadata": {},
   "outputs": [],
   "source": []
  },
  {
   "cell_type": "code",
   "execution_count": null,
   "id": "394b84b0",
   "metadata": {},
   "outputs": [],
   "source": []
  }
 ],
 "metadata": {
  "kernelspec": {
   "display_name": "Python 3 (ipykernel)",
   "language": "python",
   "name": "python3"
  },
  "language_info": {
   "codemirror_mode": {
    "name": "ipython",
    "version": 3
   },
   "file_extension": ".py",
   "mimetype": "text/x-python",
   "name": "python",
   "nbconvert_exporter": "python",
   "pygments_lexer": "ipython3",
   "version": "3.9.13"
  }
 },
 "nbformat": 4,
 "nbformat_minor": 5
}
